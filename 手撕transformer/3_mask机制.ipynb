{
 "cells": [
  {
   "cell_type": "code",
   "execution_count": null,
   "metadata": {},
   "outputs": [],
   "source": [
    "# 词嵌入向量维度\n",
    "d_model = 512\n",
    "\n",
    "# 单词表大小\n",
    "vocab_size = 1000\n",
    "\n",
    "# dropout比例\n",
    "dropout = 0.1\n",
    "\n",
    "# 构造两个序列 序列的长度分别为4 5， 0索引为无效\n",
    "padding_idx = 0\n",
    "\n",
    "tgt_len = [4, 2, 6]\n",
    "src_len = [4, 5, 3]\n",
    "import torch\n",
    "import torch.nn.Functional as F\n",
    "# 随机生成3个序列 不足最大序列长度的 在序列结尾pad 0\n",
    "src_seq = x = torch.cat([\n",
    "    F.pad(torch.randint(1, vocab_size, (1, L)), (0, max(src_len) - L)) for L in src_len\n",
    "])\n",
    "# [4, 5, 3]\n",
    "# tensor([[129, 490, 572, 764,   0],\n",
    "#         [636, 151, 572, 482, 666],\n",
    "#         [439, 757,  18,   0,   0]])\n",
    "tgt_seq = y = torch.cat([\n",
    "    F.pad(torch.randint(1, vocab_size, (1, L)), (0, max(tgt_len) - L)) for L in tgt_len\n",
    "])\n",
    "# [4, 2, 6]\n",
    "# tensor([[509, 360, 486,  88,   0,   0],\n",
    "#         [415, 609,   0,   0,   0,   0],\n",
    "#         [767, 817,  59, 990, 853, 101]])\n"
   ]
  }
 ],
 "metadata": {
  "kernelspec": {
   "display_name": "py310",
   "language": "python",
   "name": "python3"
  },
  "language_info": {
   "name": "python",
   "version": "3.10.14"
  }
 },
 "nbformat": 4,
 "nbformat_minor": 2
}
